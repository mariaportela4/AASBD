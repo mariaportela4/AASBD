{
 "cells": [
  {
   "cell_type": "markdown",
   "metadata": {},
   "source": [
    "# PL04 - Data Integration and Processing I"
   ]
  },
  {
   "cell_type": "code",
   "execution_count": 2,
   "metadata": {},
   "outputs": [],
   "source": [
    "import pandas as pd"
   ]
  },
  {
   "cell_type": "code",
   "execution_count": 90,
   "metadata": {},
   "outputs": [],
   "source": [
    "energy_consumption = pd.read_csv('DataSets/change-energy-consumption.csv')\n",
    "renewable_energy = pd.read_csv('DataSets/modern-renewable-prod.csv')\n",
    "per_capita_energy_use = pd.read_csv('DataSets/per-capita-energy-use.csv')\n",
    "primary_energy = pd.read_csv('DataSets/primary-energy-cons.csv')"
   ]
  },
  {
   "cell_type": "code",
   "execution_count": 33,
   "metadata": {},
   "outputs": [
    {
     "data": {
      "text/html": [
       "<div>\n",
       "<style scoped>\n",
       "    .dataframe tbody tr th:only-of-type {\n",
       "        vertical-align: middle;\n",
       "    }\n",
       "\n",
       "    .dataframe tbody tr th {\n",
       "        vertical-align: top;\n",
       "    }\n",
       "\n",
       "    .dataframe thead th {\n",
       "        text-align: right;\n",
       "    }\n",
       "</style>\n",
       "<table border=\"1\" class=\"dataframe\">\n",
       "  <thead>\n",
       "    <tr style=\"text-align: right;\">\n",
       "      <th></th>\n",
       "      <th>Entity</th>\n",
       "      <th>Code</th>\n",
       "      <th>Year</th>\n",
       "      <th>Annual change in primary energy consumption (%)</th>\n",
       "    </tr>\n",
       "  </thead>\n",
       "  <tbody>\n",
       "    <tr>\n",
       "      <th>0</th>\n",
       "      <td>Afghanistan</td>\n",
       "      <td>AFG</td>\n",
       "      <td>1981</td>\n",
       "      <td>12.663031</td>\n",
       "    </tr>\n",
       "    <tr>\n",
       "      <th>1</th>\n",
       "      <td>Afghanistan</td>\n",
       "      <td>AFG</td>\n",
       "      <td>1982</td>\n",
       "      <td>6.505477</td>\n",
       "    </tr>\n",
       "    <tr>\n",
       "      <th>2</th>\n",
       "      <td>Afghanistan</td>\n",
       "      <td>AFG</td>\n",
       "      <td>1983</td>\n",
       "      <td>22.333790</td>\n",
       "    </tr>\n",
       "    <tr>\n",
       "      <th>3</th>\n",
       "      <td>Afghanistan</td>\n",
       "      <td>AFG</td>\n",
       "      <td>1984</td>\n",
       "      <td>0.462401</td>\n",
       "    </tr>\n",
       "    <tr>\n",
       "      <th>4</th>\n",
       "      <td>Afghanistan</td>\n",
       "      <td>AFG</td>\n",
       "      <td>1985</td>\n",
       "      <td>-2.365375</td>\n",
       "    </tr>\n",
       "  </tbody>\n",
       "</table>\n",
       "</div>"
      ],
      "text/plain": [
       "        Entity Code  Year  Annual change in primary energy consumption (%)\n",
       "0  Afghanistan  AFG  1981                                        12.663031\n",
       "1  Afghanistan  AFG  1982                                         6.505477\n",
       "2  Afghanistan  AFG  1983                                        22.333790\n",
       "3  Afghanistan  AFG  1984                                         0.462401\n",
       "4  Afghanistan  AFG  1985                                        -2.365375"
      ]
     },
     "execution_count": 33,
     "metadata": {},
     "output_type": "execute_result"
    }
   ],
   "source": [
    "energy_consumption.head()"
   ]
  },
  {
   "cell_type": "markdown",
   "metadata": {},
   "source": [
    "### **Energy Data Analysis**\n",
    "\n",
    "This analysis merges multiple datasets related to energy consumption, primary energy, renewable energy, and per capita energy use.\n"
   ]
  },
  {
   "cell_type": "code",
   "execution_count": 91,
   "metadata": {},
   "outputs": [],
   "source": [
    "energy_analysis1 = pd.merge(energy_consumption,primary_energy, on=['Entity','Code','Year'], how='left')\n",
    "energy_analysis2 = pd.merge(energy_analysis1,renewable_energy, on=['Entity','Code','Year'], how='left')\n",
    "energy_analysis = pd.merge(energy_analysis2, per_capita_energy_use, on=['Entity','Code','Year'], how='left')"
   ]
  },
  {
   "cell_type": "code",
   "execution_count": 92,
   "metadata": {},
   "outputs": [
    {
     "data": {
      "text/html": [
       "<div>\n",
       "<style scoped>\n",
       "    .dataframe tbody tr th:only-of-type {\n",
       "        vertical-align: middle;\n",
       "    }\n",
       "\n",
       "    .dataframe tbody tr th {\n",
       "        vertical-align: top;\n",
       "    }\n",
       "\n",
       "    .dataframe thead th {\n",
       "        text-align: right;\n",
       "    }\n",
       "</style>\n",
       "<table border=\"1\" class=\"dataframe\">\n",
       "  <thead>\n",
       "    <tr style=\"text-align: right;\">\n",
       "      <th></th>\n",
       "      <th>Entity</th>\n",
       "      <th>Code</th>\n",
       "      <th>Year</th>\n",
       "      <th>Annual change in primary energy consumption (%)</th>\n",
       "      <th>Primary energy consumption (TWh)</th>\n",
       "      <th>Electricity from wind - TWh</th>\n",
       "      <th>Electricity from hydro - TWh</th>\n",
       "      <th>Electricity from solar - TWh</th>\n",
       "      <th>Other renewables including bioenergy - TWh</th>\n",
       "      <th>Primary energy consumption per capita (kWh/person)</th>\n",
       "    </tr>\n",
       "  </thead>\n",
       "  <tbody>\n",
       "    <tr>\n",
       "      <th>0</th>\n",
       "      <td>Afghanistan</td>\n",
       "      <td>AFG</td>\n",
       "      <td>1981</td>\n",
       "      <td>12.663031</td>\n",
       "      <td>8.777320</td>\n",
       "      <td>NaN</td>\n",
       "      <td>NaN</td>\n",
       "      <td>NaN</td>\n",
       "      <td>NaN</td>\n",
       "      <td>786.83690</td>\n",
       "    </tr>\n",
       "    <tr>\n",
       "      <th>1</th>\n",
       "      <td>Afghanistan</td>\n",
       "      <td>AFG</td>\n",
       "      <td>1982</td>\n",
       "      <td>6.505477</td>\n",
       "      <td>9.348327</td>\n",
       "      <td>NaN</td>\n",
       "      <td>NaN</td>\n",
       "      <td>NaN</td>\n",
       "      <td>NaN</td>\n",
       "      <td>926.65125</td>\n",
       "    </tr>\n",
       "    <tr>\n",
       "      <th>2</th>\n",
       "      <td>Afghanistan</td>\n",
       "      <td>AFG</td>\n",
       "      <td>1983</td>\n",
       "      <td>22.333790</td>\n",
       "      <td>11.436162</td>\n",
       "      <td>NaN</td>\n",
       "      <td>NaN</td>\n",
       "      <td>NaN</td>\n",
       "      <td>NaN</td>\n",
       "      <td>1149.19590</td>\n",
       "    </tr>\n",
       "    <tr>\n",
       "      <th>3</th>\n",
       "      <td>Afghanistan</td>\n",
       "      <td>AFG</td>\n",
       "      <td>1984</td>\n",
       "      <td>0.462401</td>\n",
       "      <td>11.489043</td>\n",
       "      <td>NaN</td>\n",
       "      <td>NaN</td>\n",
       "      <td>NaN</td>\n",
       "      <td>NaN</td>\n",
       "      <td>1121.57290</td>\n",
       "    </tr>\n",
       "    <tr>\n",
       "      <th>4</th>\n",
       "      <td>Afghanistan</td>\n",
       "      <td>AFG</td>\n",
       "      <td>1985</td>\n",
       "      <td>-2.365375</td>\n",
       "      <td>11.217284</td>\n",
       "      <td>NaN</td>\n",
       "      <td>NaN</td>\n",
       "      <td>NaN</td>\n",
       "      <td>NaN</td>\n",
       "      <td>1067.07090</td>\n",
       "    </tr>\n",
       "    <tr>\n",
       "      <th>...</th>\n",
       "      <td>...</td>\n",
       "      <td>...</td>\n",
       "      <td>...</td>\n",
       "      <td>...</td>\n",
       "      <td>...</td>\n",
       "      <td>...</td>\n",
       "      <td>...</td>\n",
       "      <td>...</td>\n",
       "      <td>...</td>\n",
       "      <td>...</td>\n",
       "    </tr>\n",
       "    <tr>\n",
       "      <th>11717</th>\n",
       "      <td>Zimbabwe</td>\n",
       "      <td>ZWE</td>\n",
       "      <td>2017</td>\n",
       "      <td>-2.984351</td>\n",
       "      <td>45.256546</td>\n",
       "      <td>0.0</td>\n",
       "      <td>3.97</td>\n",
       "      <td>0.01</td>\n",
       "      <td>0.15</td>\n",
       "      <td>3068.01150</td>\n",
       "    </tr>\n",
       "    <tr>\n",
       "      <th>11718</th>\n",
       "      <td>Zimbabwe</td>\n",
       "      <td>ZWE</td>\n",
       "      <td>2018</td>\n",
       "      <td>14.479410</td>\n",
       "      <td>51.809430</td>\n",
       "      <td>0.0</td>\n",
       "      <td>5.05</td>\n",
       "      <td>0.02</td>\n",
       "      <td>0.19</td>\n",
       "      <td>3441.98580</td>\n",
       "    </tr>\n",
       "    <tr>\n",
       "      <th>11719</th>\n",
       "      <td>Zimbabwe</td>\n",
       "      <td>ZWE</td>\n",
       "      <td>2019</td>\n",
       "      <td>-10.981565</td>\n",
       "      <td>46.119940</td>\n",
       "      <td>0.0</td>\n",
       "      <td>4.17</td>\n",
       "      <td>0.03</td>\n",
       "      <td>0.19</td>\n",
       "      <td>3003.65530</td>\n",
       "    </tr>\n",
       "    <tr>\n",
       "      <th>11720</th>\n",
       "      <td>Zimbabwe</td>\n",
       "      <td>ZWE</td>\n",
       "      <td>2020</td>\n",
       "      <td>-8.940124</td>\n",
       "      <td>41.996760</td>\n",
       "      <td>0.0</td>\n",
       "      <td>3.81</td>\n",
       "      <td>0.02</td>\n",
       "      <td>0.10</td>\n",
       "      <td>2680.13180</td>\n",
       "    </tr>\n",
       "    <tr>\n",
       "      <th>11721</th>\n",
       "      <td>Zimbabwe</td>\n",
       "      <td>ZWE</td>\n",
       "      <td>2021</td>\n",
       "      <td>0.353909</td>\n",
       "      <td>42.145393</td>\n",
       "      <td>0.0</td>\n",
       "      <td>5.93</td>\n",
       "      <td>0.02</td>\n",
       "      <td>0.00</td>\n",
       "      <td>2635.15360</td>\n",
       "    </tr>\n",
       "  </tbody>\n",
       "</table>\n",
       "<p>11722 rows × 10 columns</p>\n",
       "</div>"
      ],
      "text/plain": [
       "            Entity Code  Year  \\\n",
       "0      Afghanistan  AFG  1981   \n",
       "1      Afghanistan  AFG  1982   \n",
       "2      Afghanistan  AFG  1983   \n",
       "3      Afghanistan  AFG  1984   \n",
       "4      Afghanistan  AFG  1985   \n",
       "...            ...  ...   ...   \n",
       "11717     Zimbabwe  ZWE  2017   \n",
       "11718     Zimbabwe  ZWE  2018   \n",
       "11719     Zimbabwe  ZWE  2019   \n",
       "11720     Zimbabwe  ZWE  2020   \n",
       "11721     Zimbabwe  ZWE  2021   \n",
       "\n",
       "       Annual change in primary energy consumption (%)  \\\n",
       "0                                            12.663031   \n",
       "1                                             6.505477   \n",
       "2                                            22.333790   \n",
       "3                                             0.462401   \n",
       "4                                            -2.365375   \n",
       "...                                                ...   \n",
       "11717                                        -2.984351   \n",
       "11718                                        14.479410   \n",
       "11719                                       -10.981565   \n",
       "11720                                        -8.940124   \n",
       "11721                                         0.353909   \n",
       "\n",
       "       Primary energy consumption (TWh)  Electricity from wind - TWh  \\\n",
       "0                              8.777320                          NaN   \n",
       "1                              9.348327                          NaN   \n",
       "2                             11.436162                          NaN   \n",
       "3                             11.489043                          NaN   \n",
       "4                             11.217284                          NaN   \n",
       "...                                 ...                          ...   \n",
       "11717                         45.256546                          0.0   \n",
       "11718                         51.809430                          0.0   \n",
       "11719                         46.119940                          0.0   \n",
       "11720                         41.996760                          0.0   \n",
       "11721                         42.145393                          0.0   \n",
       "\n",
       "       Electricity from hydro - TWh  Electricity from solar - TWh  \\\n",
       "0                               NaN                           NaN   \n",
       "1                               NaN                           NaN   \n",
       "2                               NaN                           NaN   \n",
       "3                               NaN                           NaN   \n",
       "4                               NaN                           NaN   \n",
       "...                             ...                           ...   \n",
       "11717                          3.97                          0.01   \n",
       "11718                          5.05                          0.02   \n",
       "11719                          4.17                          0.03   \n",
       "11720                          3.81                          0.02   \n",
       "11721                          5.93                          0.02   \n",
       "\n",
       "       Other renewables including bioenergy - TWh  \\\n",
       "0                                             NaN   \n",
       "1                                             NaN   \n",
       "2                                             NaN   \n",
       "3                                             NaN   \n",
       "4                                             NaN   \n",
       "...                                           ...   \n",
       "11717                                        0.15   \n",
       "11718                                        0.19   \n",
       "11719                                        0.19   \n",
       "11720                                        0.10   \n",
       "11721                                        0.00   \n",
       "\n",
       "       Primary energy consumption per capita (kWh/person)  \n",
       "0                                              786.83690   \n",
       "1                                              926.65125   \n",
       "2                                             1149.19590   \n",
       "3                                             1121.57290   \n",
       "4                                             1067.07090   \n",
       "...                                                  ...   \n",
       "11717                                         3068.01150   \n",
       "11718                                         3441.98580   \n",
       "11719                                         3003.65530   \n",
       "11720                                         2680.13180   \n",
       "11721                                         2635.15360   \n",
       "\n",
       "[11722 rows x 10 columns]"
      ]
     },
     "execution_count": 92,
     "metadata": {},
     "output_type": "execute_result"
    }
   ],
   "source": [
    "energy_analysis"
   ]
  },
  {
   "cell_type": "markdown",
   "metadata": {},
   "source": [
    "### Dropping rows with missing Code values\n",
    "\n",
    "Ensures all entries have a valid country or region code.\n",
    "\n",
    "Rows without a Code correspond to continents rather than individual countries.\n",
    "\n",
    "Removing these rows prevents aggregation errors and ensures consistency in country-level analysis.\n",
    "\n",
    "The code 'OWID_WRL' represents a global entity that aggregates data from all countries. Since the analysis focuses on individual countries, excluding this row ensures that the dataset only includes country-specific data, preventing distortions in statistical calculations."
   ]
  },
  {
   "cell_type": "code",
   "execution_count": 93,
   "metadata": {},
   "outputs": [],
   "source": [
    "energy_analysis = energy_analysis.dropna(subset=['Code'])"
   ]
  },
  {
   "cell_type": "code",
   "execution_count": 94,
   "metadata": {},
   "outputs": [],
   "source": [
    "energy_analysis = energy_analysis[energy_analysis['Code'] != 'OWID_WRL']"
   ]
  },
  {
   "cell_type": "markdown",
   "metadata": {},
   "source": [
    "### Common years for all the countries"
   ]
  },
  {
   "cell_type": "code",
   "execution_count": 95,
   "metadata": {},
   "outputs": [
    {
     "data": {
      "text/plain": [
       "Entity\n",
       "Afghanistan       1981\n",
       "Albania           1981\n",
       "Algeria           1966\n",
       "American Samoa    1981\n",
       "Angola            1981\n",
       "                  ... \n",
       "Western Sahara    1981\n",
       "Yemen             1981\n",
       "Yugoslavia        1981\n",
       "Zambia            1981\n",
       "Zimbabwe          1981\n",
       "Name: Year, Length: 223, dtype: int64"
      ]
     },
     "execution_count": 95,
     "metadata": {},
     "output_type": "execute_result"
    }
   ],
   "source": [
    "energy_analysis.groupby(\"Entity\")[\"Year\"].min()"
   ]
  },
  {
   "cell_type": "code",
   "execution_count": 96,
   "metadata": {},
   "outputs": [
    {
     "data": {
      "text/plain": [
       "Entity\n",
       "Afghanistan       2021\n",
       "Albania           2021\n",
       "Algeria           2023\n",
       "American Samoa    2021\n",
       "Angola            2021\n",
       "                  ... \n",
       "Western Sahara    2021\n",
       "Yemen             2021\n",
       "Yugoslavia        1991\n",
       "Zambia            2021\n",
       "Zimbabwe          2021\n",
       "Name: Year, Length: 223, dtype: int64"
      ]
     },
     "execution_count": 96,
     "metadata": {},
     "output_type": "execute_result"
    }
   ],
   "source": [
    "energy_analysis.groupby(\"Entity\")[\"Year\"].max()"
   ]
  },
  {
   "cell_type": "markdown",
   "metadata": {},
   "source": [
    "### Data Filtering for Consistency Across Countries\n",
    "\n",
    "Yugoslavia no longer exists since 1991, so it only has data up to that year. We’ll remove this country from the dataset.\n",
    "\n",
    "Most countries have data available up to 2021, so we will discard those that have data extending into 2022 and 2023.\n",
    "\n",
    "Additionally, most countries have data starting from 1981, so we will eliminate any records prior to this year."
   ]
  },
  {
   "cell_type": "code",
   "execution_count": 97,
   "metadata": {},
   "outputs": [],
   "source": [
    "energy_analysis = energy_analysis[energy_analysis[\"Entity\"] != \"Yugoslavia\"]\n",
    "energy_analysis = energy_analysis[energy_analysis[\"Year\"] <= 2021]\n",
    "energy_analysis = energy_analysis[energy_analysis[\"Year\"] >= 1981]"
   ]
  },
  {
   "cell_type": "code",
   "execution_count": 98,
   "metadata": {},
   "outputs": [
    {
     "data": {
      "text/plain": [
       "Entity                                                   0\n",
       "Code                                                     0\n",
       "Year                                                     0\n",
       "Annual change in primary energy consumption (%)          0\n",
       "Primary energy consumption (TWh)                         0\n",
       "Electricity from wind - TWh                           2769\n",
       "Electricity from hydro - TWh                          2569\n",
       "Electricity from solar - TWh                          2796\n",
       "Other renewables including bioenergy - TWh            2718\n",
       "Primary energy consumption per capita (kWh/person)      88\n",
       "dtype: int64"
      ]
     },
     "execution_count": 98,
     "metadata": {},
     "output_type": "execute_result"
    }
   ],
   "source": [
    "# Checking for missing values to identify columns with incomplete data\n",
    "\n",
    "energy_analysis.isna().sum()"
   ]
  },
  {
   "cell_type": "markdown",
   "metadata": {},
   "source": [
    "### Handling Missing Values\n",
    "\n",
    "The missing values correspond to renewable energy data for the years 1981 to 1999. This likely indicates that renewable energy sources were not widely used or reported during this period for some countries.\n",
    "To ensure consistency in the dataset and avoid misinterpretation of missing values, we will replace these NA values with 0, assuming that renewable energy usage was negligible or nonexistent at that time."
   ]
  },
  {
   "cell_type": "code",
   "execution_count": 99,
   "metadata": {},
   "outputs": [],
   "source": [
    "energy_analysis.fillna(0, inplace=True)"
   ]
  },
  {
   "cell_type": "code",
   "execution_count": 100,
   "metadata": {},
   "outputs": [],
   "source": [
    "# Exporting our new DataSet into a csv type file\n",
    "\n",
    "energy_analysis.to_csv('Energy_Analysis.csv', index=False)"
   ]
  }
 ],
 "metadata": {
  "kernelspec": {
   "display_name": ".venv",
   "language": "python",
   "name": "python3"
  },
  "language_info": {
   "codemirror_mode": {
    "name": "ipython",
    "version": 3
   },
   "file_extension": ".py",
   "mimetype": "text/x-python",
   "name": "python",
   "nbconvert_exporter": "python",
   "pygments_lexer": "ipython3",
   "version": "3.12.6"
  }
 },
 "nbformat": 4,
 "nbformat_minor": 2
}
